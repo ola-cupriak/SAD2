{
 "cells": [
  {
   "cell_type": "code",
   "execution_count": 1,
   "metadata": {},
   "outputs": [
    {
     "name": "stderr",
     "output_type": "stream",
     "text": [
      "/home/michal/miniconda3/envs/sad2/lib/python3.10/site-packages/tqdm/auto.py:22: TqdmWarning: IProgress not found. Please update jupyter and ipywidgets. See https://ipywidgets.readthedocs.io/en/stable/user_install.html\n",
      "  from .autonotebook import tqdm as notebook_tqdm\n"
     ]
    }
   ],
   "source": [
    "import anndata\n",
    "import argparse\n",
    "import numpy as np\n",
    "import matplotlib.pyplot as plt\n",
    "import os\n",
    "import pandas as pd\n",
    "import scanpy as sc\n",
    "from sklearn import decomposition\n",
    "from sklearn.preprocessing import StandardScaler\n",
    "import sys\n",
    "import torch\n",
    "import torch.distributions as distributions\n",
    "import torch.nn as nn\n",
    "import torch.nn.functional as F\n",
    "from torchvision.transforms import ToTensor\n",
    "from torch.utils.data import Dataset\n",
    "from torch.utils.data import DataLoader"
   ]
  },
  {
   "cell_type": "code",
   "execution_count": 9,
   "metadata": {},
   "outputs": [],
   "source": [
    "def log_prob_xz(alpha, beta, x):\n",
    "    \"\"\"\n",
    "    Measures the logarithm of the probability ofseeing data\n",
    "    under p(x|z), i.e. the reconstruction loss.\n",
    "    \"\"\"\n",
    "    dist = distributions.beta.Beta(alpha, beta)\n",
    "    log_pxz = dist.log_prob(x)\n",
    "    return log_pxz"
   ]
  },
  {
   "cell_type": "code",
   "execution_count": 12,
   "metadata": {},
   "outputs": [
    {
     "data": {
      "text/plain": [
       "tensor([-84.3281,  -6.5781])"
      ]
     },
     "execution_count": 12,
     "metadata": {},
     "output_type": "execute_result"
    }
   ],
   "source": [
    "a = torch.Tensor([2.5, 2.3])\n",
    "b = torch.Tensor([10000, 10002.4])\n",
    "\n",
    "dist = distributions.beta.Beta(a, b)\n",
    "dist.sample()\n",
    "\n",
    "log_prob_xz(a, b, torch.Tensor([0.0000000000000000000000000000001, 1.9463e-03]))"
   ]
  }
 ],
 "metadata": {
  "kernelspec": {
   "display_name": "Python 3.10.8 ('sad2')",
   "language": "python",
   "name": "python3"
  },
  "language_info": {
   "codemirror_mode": {
    "name": "ipython",
    "version": 3
   },
   "file_extension": ".py",
   "mimetype": "text/x-python",
   "name": "python",
   "nbconvert_exporter": "python",
   "pygments_lexer": "ipython3",
   "version": "3.10.8"
  },
  "orig_nbformat": 4,
  "vscode": {
   "interpreter": {
    "hash": "92b46e36abbb7cec872270f81a67919fbf8f9b0f82f54eb630c1917cbe306ffe"
   }
  }
 },
 "nbformat": 4,
 "nbformat_minor": 2
}
